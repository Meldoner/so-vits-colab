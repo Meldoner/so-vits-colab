{
 "cells": [
  {
   "cell_type": "markdown",
   "metadata": {},
   "source": [
    "## Before training\n",
    "\n",
    "This program saves the last 3 generations of models to Google Drive. Since 1 generation of models is >1GB, you should have at least 3GB of free space in Google Drive. If you do not have such free space, it is recommended to create another Google Account.\n",
    "\n",
    "Training requires >10GB VRAM. (T4 should be enough) Inference does not require such a lot of VRAM.\n",
    "\n",
    "NOTE: THIS IS NOT OFFICIAL COLAB. THIS IS [Meldone](https://github.com/Meldoner/so-vits-colab) VERSION OF COLAB"
   ]
  },
  {
   "cell_type": "markdown",
   "metadata": {},
   "source": [
    "## Installation"
   ]
  },
  {
   "cell_type": "code",
   "execution_count": null,
   "metadata": {},
   "outputs": [],
   "source": [
    "#@title Check GPU\n",
    "!nvidia-smi"
   ]
  },
  {
   "cell_type": "code",
   "execution_count": null,
   "metadata": {},
   "outputs": [],
   "source": [
    "#@title Mount Google Drive\n",
    "from google.colab import drive\n",
    "drive.mount('/content/drive')"
   ]
  },
  {
   "cell_type": "code",
   "execution_count": null,
   "metadata": {},
   "outputs": [],
   "source": [
    "#@title Install dependencies\n",
    "#@markdown pip may fail to resolve dependencies and raise ERROR, but it can be ignored.\n",
    "!python -m pip install -U pip wheel\n",
    "%pip install -U ipython \n",
    "\n",
    "#@markdown Branch (for development)\n",
    "BRANCH = \"none\" #@param {\"type\": \"string\"}\n",
    "if BRANCH == \"none\":\n",
    "    %pip install -U so-vits-svc-fork\n",
    "else:\n",
    "    %pip install -U git+https://github.com/34j/so-vits-svc-fork.git@{BRANCH}"
   ]
  },
  {
   "cell_type": "markdown",
   "metadata": {},
   "source": [
    "## Training"
   ]
  },
  {
   "cell_type": "code",
   "execution_count": null,
   "metadata": {},
   "outputs": [],
   "source": [
    "#@title Copy your dataset\n",
    "#@markdown **We assume that your dataset is in your Google Drive's `so-vits-svc-fork/dataset/(speaker_name)` directory.**\n",
    "!mkdir -p \"dataset_raw\"\n",
    "DATASET_NAME = \"kiritan\" #@param {type: \"string\"}\n",
    "!cp -R /content/drive/MyDrive/so-vits-svc-fork/dataset/{DATASET_NAME}/ -t \"dataset_raw/\""
   ]
  },
  {
   "cell_type": "code",
   "execution_count": null,
   "metadata": {},
   "outputs": [],
   "source": [
    "#@title Automatic preprocessing\n",
    "!svc pre-resample"
   ]
  },
  {
   "cell_type": "code",
   "execution_count": null,
   "metadata": {},
   "outputs": [],
   "source": [
    "!svc pre-config"
   ]
  },
  {
   "cell_type": "code",
   "execution_count": null,
   "metadata": {},
   "outputs": [],
   "source": [
    "#@title Customize your config\n",
    "import json\n",
    "with open('configs/44k/config.json', 'r') as f:\n",
    "    config = json.loads(f.read()) # Reading config file\n",
    "\n",
    "log_interval = 200 #@param {type:\"integer\"}\n",
    "eval_interval = 800 #@param {type:\"integer\"}\n",
    "epochs =  10000 #@param {type:\"integer\"}\n",
    "batch_size =  16 #@param {type:\"integer\"}\n",
    "keep_ckpts = 3 #@param {type:\"integer\"}\n",
    "ckpt_name_by_step =  True #@param {type:\"boolean\"}\n",
    "\n",
    "for i in ['log_interval','eval_interval','epochs', 'batch_size','keep_ckpts','ckpt_name_by_step']:\n",
    "  config['train'][i] = eval(i)\n",
    "\n",
    "with open('configs/44k/config.json', 'w') as f:\n",
    "  json.dump(config, f, indent=2) # Writing to the config file"
   ]
  },
  {
   "cell_type": "code",
   "execution_count": null,
   "metadata": {},
   "outputs": [],
   "source": [
    "#@title Copy configs file to drive\n",
    "!cp configs/44k/config.json drive/MyDrive/so-vits-svc-fork"
   ]
  },
  {
   "cell_type": "code",
   "execution_count": null,
   "metadata": {},
   "outputs": [],
   "source": [
    "F0_METHOD = \"crepe\" #@param [\"crepe\", \"crepe-tiny\", \"parselmouth\", \"dio\", \"harvest\"]\n",
    "!svc pre-hubert -fm {F0_METHOD}"
   ]
  },
  {
   "cell_type": "code",
   "execution_count": null,
   "metadata": {},
   "outputs": [],
   "source": [
    "#@title Train\n",
    "%load_ext tensorboard\n",
    "%tensorboard --logdir drive/MyDrive/so-vits-svc-fork/logs/44k\n",
    "!svc train --model-path drive/MyDrive/so-vits-svc-fork/logs/44k"
   ]
  },
  {
   "cell_type": "markdown",
   "metadata": {},
   "source": [
    "## Training Cluster model"
   ]
  },
  {
   "cell_type": "code",
   "execution_count": null,
   "metadata": {},
   "outputs": [],
   "source": [
    "!svc train-cluster --output-path drive/MyDrive/so-vits-svc-fork/logs/44k/kmeans.pt"
   ]
  },
  {
   "cell_type": "markdown",
   "metadata": {},
   "source": [
    "## Inference"
   ]
  },
  {
   "cell_type": "code",
   "execution_count": null,
   "metadata": {},
   "outputs": [],
   "source": [
    "#@title Get the author's voice as a source\n",
    "import random\n",
    "NAME = str(random.randint(1, 100))\n",
    "!wget -N \"https://github.com/34j/34j/raw/main/jvs-parallel100/{NAME}.wav\"\n",
    "from IPython.display import Audio, display\n",
    "display(Audio(f\"{NAME}.wav\"))"
   ]
  },
  {
   "cell_type": "code",
   "execution_count": null,
   "metadata": {},
   "outputs": [],
   "source": [
    "#@title Use trained model\n",
    "#@markdown **Put your .wav file in `so-vits-svc-fork/audio` directory**\n",
    "from IPython.display import Audio, display\n",
    "NAME = 'your audio file name' #@param {type: \"string\"}\n",
    "!svc infer drive/MyDrive/so-vits-svc-fork/audio/{NAME}.wav -m drive/MyDrive/so-vits-svc-fork/logs/44k/ -c drive/MyDrive/so-vits-svc-fork/logs/44k/config.json\n",
    "display(Audio(f\"drive/MyDrive/so-vits-svc-fork/audio/{NAME}.out.wav\", autoplay=True))"
   ]
  },
  {
   "cell_type": "code",
   "execution_count": null,
   "metadata": {},
   "outputs": [],
   "source": [
    "#@title Use trained model (with cluster)\n",
    "#@markdown **Put your .wav file in `so-vits-svc-fork/audio` directory**\n",
    "from IPython.display import Audio, display\n",
    "NAME = 'your audio file name' #@param {type: \"string\"}\n",
    "!svc infer drive/MyDrive/so-vits-svc-fork/audio/{NAME}.wav -s speaker -r 0.1 -m drive/MyDrive/so-vits-svc-fork/logs/44k/ -c drive/MyDrive/so-vits-svc-fork/logs/44k/config.json -k drive/MyDrive/so-vits-svc-fork/logs/44k/kmeans.pt\n",
    "display(Audio(f\"drive/MyDrive/so-vits-svc-fork/audio/{NAME}.out.wav\", autoplay=True))"
   ]
  },
  {
   "cell_type": "markdown",
   "metadata": {},
   "source": [
    "### Pretrained models"
   ]
  },
  {
   "cell_type": "code",
   "execution_count": null,
   "metadata": {},
   "outputs": [],
   "source": [
    "#@title https://huggingface.co/TachibanaKimika/so-vits-svc-4.0-models/tree/main\n",
    "!wget -N \"https://huggingface.co/TachibanaKimika/so-vits-svc-4.0-models/resolve/main/riri/G_riri_220.pth\"\n",
    "!wget -N \"https://huggingface.co/TachibanaKimika/so-vits-svc-4.0-models/resolve/main/riri/config.json\""
   ]
  },
  {
   "cell_type": "code",
   "execution_count": null,
   "metadata": {},
   "outputs": [],
   "source": [
    "!svc infer {NAME}.wav -c config.json -m G_riri_220.pth\n",
    "display(Audio(f\"{NAME}.out.wav\", autoplay=True))"
   ]
  },
  {
   "cell_type": "code",
   "execution_count": null,
   "metadata": {},
   "outputs": [],
   "source": [
    "#@title https://huggingface.co/therealvul/so-vits-svc-4.0/tree/main\n",
    "!wget -N \"https://huggingface.co/therealvul/so-vits-svc-4.0/resolve/main/Pinkie%20(speaking%20sep)/G_166400.pth\"\n",
    "!wget -N \"https://huggingface.co/therealvul/so-vits-svc-4.0/resolve/main/Pinkie%20(speaking%20sep)/config.json\""
   ]
  },
  {
   "cell_type": "code",
   "execution_count": null,
   "metadata": {},
   "outputs": [],
   "source": [
    "!svc infer {NAME}.wav --speaker \"Pinkie {neutral}\" -c config.json -m G_166400.pth\n",
    "display(Audio(f\"{NAME}.out.wav\", autoplay=True))"
   ]
  }
 ],
 "metadata": {
  "accelerator": "GPU",
  "colab": {
   "provenance": []
  },
  "gpuClass": "standard",
  "kernelspec": {
   "display_name": "Python 3",
   "name": "python3"
  },
  "language_info": {
   "name": "python"
  }
 },
 "nbformat": 4,
 "nbformat_minor": 0
}
